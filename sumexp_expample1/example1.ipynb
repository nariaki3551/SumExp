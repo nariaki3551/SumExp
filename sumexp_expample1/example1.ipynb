{
 "cells": [
  {
   "cell_type": "code",
   "execution_count": 1,
   "metadata": {},
   "outputs": [],
   "source": [
    "from pprint import pprint\n",
    "from base import *\n",
    "\n",
    "import matplotlib.pyplot as plt"
   ]
  },
  {
   "cell_type": "markdown",
   "metadata": {},
   "source": [
    "## Check STORAGE and CUSTOM_SCR in setting.py"
   ]
  },
  {
   "cell_type": "code",
   "execution_count": 2,
   "metadata": {},
   "outputs": [
    {
     "name": "stdout",
     "output_type": "stream",
     "text": [
      "zsh: Can't add module parameter `history': parameter already exists\r\n",
      "# STORAGE = '../storage'\r\n",
      "# CUSTOM_SCR = 'custom'\r\n",
      "\r\n",
      "# for example1\r\n",
      "STORAGE = '../storage_example1'\r\n",
      "CUSTOM_SCR = 'custom_example1'\r\n"
     ]
    }
   ],
   "source": [
    "# STORAGE is data directory\n",
    "# CUSTOM_SCR is directory which has read parameters and functions\n",
    "!cat ./setting.py"
   ]
  },
  {
   "cell_type": "code",
   "execution_count": 3,
   "metadata": {},
   "outputs": [
    {
     "name": "stdout",
     "output_type": "stream",
     "text": [
      "zsh: Can't add module parameter `history': parameter already exists\n",
      "README.md a1_b1.txt a1_b2.txt a2_b1.txt a2_b2.txt cache\n"
     ]
    }
   ],
   "source": [
    "!ls ./../storage_example1"
   ]
  },
  {
   "cell_type": "markdown",
   "metadata": {},
   "source": [
    "## Read log files"
   ]
  },
  {
   "cell_type": "code",
   "execution_count": 4,
   "metadata": {},
   "outputs": [
    {
     "name": "stdout",
     "output_type": "stream",
     "text": [
      "zsh: Can't add module parameter `history': parameter already exists\n",
      "INFO:load_storage.py:<module>:save cache files in ../storage_example1/cache\n",
      "100%|███████████████████████████████████████████| 4/4 [00:00<00:00, 1861.24it/s]\n",
      "INFO:load_storage.py:save_database:size is 4\n"
     ]
    }
   ],
   "source": [
    "!python3 load_storage.py"
   ]
  },
  {
   "cell_type": "markdown",
   "metadata": {},
   "source": [
    "## Database"
   ]
  },
  {
   "cell_type": "code",
   "execution_count": 5,
   "metadata": {},
   "outputs": [],
   "source": [
    "root = '../storage_example1/cache'  # cache directory ( see in --root argument of load_storage.py )\n",
    "database = Database(root)"
   ]
  },
  {
   "cell_type": "markdown",
   "metadata": {},
   "source": [
    "### Check Parameters"
   ]
  },
  {
   "cell_type": "code",
   "execution_count": 6,
   "metadata": {},
   "outputs": [
    {
     "data": {
      "text/plain": [
       "{Param(a='a1', b='b1'),\n",
       " Param(a='a1', b='b2'),\n",
       " Param(a='a2', b='b1'),\n",
       " Param(a='a2', b='b2')}"
      ]
     },
     "execution_count": 6,
     "metadata": {},
     "output_type": "execute_result"
    }
   ],
   "source": [
    "# display loadable data\n",
    "database.params"
   ]
  },
  {
   "cell_type": "markdown",
   "metadata": {},
   "source": [
    "### Interactive (automatic) dataset loading"
   ]
  },
  {
   "cell_type": "code",
   "execution_count": 7,
   "metadata": {},
   "outputs": [
    {
     "name": "stdout",
     "output_type": "stream",
     "text": [
      "======== load datsets : size 0 ====================\n",
      "===================================================\n"
     ]
    }
   ],
   "source": [
    "# display loaded data\n",
    "print(database)"
   ]
  },
  {
   "cell_type": "code",
   "execution_count": 8,
   "metadata": {},
   "outputs": [
    {
     "name": "stdout",
     "output_type": "stream",
     "text": [
      "======== load datsets : size 1 ====================\n",
      "\n",
      "dataset 0\n",
      "   load_set LoadSet(LoadSetElement(file='../storage_example1/a1_b1.txt', read_func=<function read at 0x10dc5d9d0>), None)\n",
      "\tsize     4\n",
      "\t\n",
      "===================================================\n"
     ]
    }
   ],
   "source": [
    "# load (a, b) = (a1, b1) dataset\n",
    "database['a1', 'b1']\n",
    "print(database)"
   ]
  },
  {
   "cell_type": "code",
   "execution_count": 9,
   "metadata": {},
   "outputs": [
    {
     "name": "stdout",
     "output_type": "stream",
     "text": [
      "======== load datsets : size 2 ====================\n",
      "\n",
      "dataset 0\n",
      "   load_set LoadSet(LoadSetElement(file='../storage_example1/a1_b1.txt', read_func=<function read at 0x10dc5d9d0>), None)\n",
      "\tsize     4\n",
      "\t\n",
      "\n",
      "dataset 1\n",
      "   load_set LoadSet(LoadSetElement(file='../storage_example1/a1_b2.txt', read_func=<function read at 0x10dc5d9d0>), None)\n",
      "\tsize     3\n",
      "\t\n",
      "===================================================\n"
     ]
    }
   ],
   "source": [
    "# load (a, b) = (a1, b2) dataset\n",
    "database[Param(a='a1', b='b2')]\n",
    "print(database)"
   ]
  },
  {
   "cell_type": "markdown",
   "metadata": {},
   "source": [
    "### Free loaded dataset"
   ]
  },
  {
   "cell_type": "code",
   "execution_count": 10,
   "metadata": {},
   "outputs": [
    {
     "name": "stdout",
     "output_type": "stream",
     "text": [
      "======== load datsets : size 0 ====================\n",
      "===================================================\n"
     ]
    }
   ],
   "source": [
    "database.free()\n",
    "print(database)"
   ]
  },
  {
   "cell_type": "markdown",
   "metadata": {},
   "source": [
    "### Extruct database"
   ]
  },
  {
   "cell_type": "code",
   "execution_count": 11,
   "metadata": {
    "scrolled": true
   },
   "outputs": [
    {
     "name": "stdout",
     "output_type": "stream",
     "text": [
      "======== load datsets : size 1 ====================\n",
      "\n",
      "dataset 0\n",
      "   load_set LoadSet(LoadSetElement(file='../storage_example1/a1_b1.txt', read_func=<function read at 0x10dc5d9d0>), None)\n",
      "\tsize     4\n",
      "\t\n",
      "===================================================\n"
     ]
    }
   ],
   "source": [
    "# extract (a, b) = ('a1', 'b1') data\n",
    "sub_database = database.sub(a='a1', b='b1')\n",
    "print(sub_database)"
   ]
  },
  {
   "cell_type": "code",
   "execution_count": 12,
   "metadata": {},
   "outputs": [
    {
     "data": {
      "text/plain": [
       "Dataset(\"LoadSet(LoadSetElement(file='../storage_example1/a2_b2.txt', read_func=<function read at 0x10dc5d9d0>), None)\")"
      ]
     },
     "execution_count": 12,
     "metadata": {},
     "output_type": "execute_result"
    }
   ],
   "source": [
    "# show detail\n",
    "sub_database.datas[Param(a='a2', b='b2')]"
   ]
  },
  {
   "cell_type": "code",
   "execution_count": 13,
   "metadata": {},
   "outputs": [
    {
     "data": {
      "text/plain": [
       "[AttrDict({'time': 0.0, 'value': 10.0}),\n",
       " AttrDict({'time': 2.0, 'value': 15.0}),\n",
       " AttrDict({'time': 10.0, 'value': 20.0})]"
      ]
     },
     "execution_count": 13,
     "metadata": {},
     "output_type": "execute_result"
    }
   ],
   "source": [
    "# show more detail\n",
    "sub_database.datas[Param(a='a2', b='b2')].datas"
   ]
  },
  {
   "cell_type": "code",
   "execution_count": 14,
   "metadata": {},
   "outputs": [
    {
     "name": "stdout",
     "output_type": "stream",
     "text": [
      "load_set LoadSet(LoadSetElement(file='../storage_example1/a2_b2.txt', read_func=<function read at 0x10dc5d9d0>), None)\n",
      "size     3\n",
      "\n",
      "[AttrDict({'time': 0.0, 'value': 10.0}),\n",
      " AttrDict({'time': 2.0, 'value': 15.0}),\n",
      " AttrDict({'time': 10.0, 'value': 20.0})]\n"
     ]
    }
   ],
   "source": [
    "# show more detail\n",
    "dataset = sub_database[Param(a='a2', b='b2')]\n",
    "print(dataset)\n",
    "pprint(dataset.datas)"
   ]
  },
  {
   "cell_type": "markdown",
   "metadata": {},
   "source": [
    "### multi-process processing"
   ]
  },
  {
   "cell_type": "code",
   "execution_count": 15,
   "metadata": {},
   "outputs": [
    {
     "name": "stdout",
     "output_type": "stream",
     "text": [
      "======== load datsets : size 0 ====================\n",
      "===================================================\n"
     ]
    }
   ],
   "source": [
    "database.free()\n",
    "print(database)"
   ]
  },
  {
   "cell_type": "code",
   "execution_count": 16,
   "metadata": {},
   "outputs": [
    {
     "name": "stdout",
     "output_type": "stream",
     "text": [
      "{Param(a='a1', b='b1'), Param(a='a2', b='b1'), Param(a='a2', b='b2'), Param(a='a1', b='b2')}\n"
     ]
    }
   ],
   "source": [
    "print(database.params)"
   ]
  },
  {
   "cell_type": "code",
   "execution_count": 17,
   "metadata": {
    "scrolled": true
   },
   "outputs": [
    {
     "name": "stdout",
     "output_type": "stream",
     "text": [
      "======== load datsets : size 0 ====================\n",
      "===================================================\n",
      "processes: 2\n"
     ]
    }
   ],
   "source": [
    "# set the number of processes\n",
    "database.setProcesses(2)\n",
    "database.setTqdm()\n",
    "print(database)"
   ]
  },
  {
   "cell_type": "code",
   "execution_count": 18,
   "metadata": {},
   "outputs": [
    {
     "name": "stderr",
     "output_type": "stream",
     "text": [
      "100%|██████████| 4/4 [00:00<00:00,  5.50it/s]\n"
     ]
    },
    {
     "data": {
      "text/plain": [
       "<base.Database.Database at 0x11f64c700>"
      ]
     },
     "execution_count": 18,
     "metadata": {},
     "output_type": "execute_result"
    }
   ],
   "source": [
    "# load all datas with parallel\n",
    "database.setAll()"
   ]
  },
  {
   "cell_type": "markdown",
   "metadata": {},
   "source": [
    "## Line Plot"
   ]
  },
  {
   "cell_type": "markdown",
   "metadata": {},
   "source": [
    "we have time-series data with parameter a and b, such that\n",
    "\n",
    "|    | a  | b  |\n",
    "|:--:|:--:|:--:|\n",
    "|1   |a1  |b1  |\n",
    "|2   |a1  |b2  |\n",
    "|3   |a2  |b1  |\n",
    "|4   |a2  |b2  |"
   ]
  },
  {
   "cell_type": "markdown",
   "metadata": {},
   "source": [
    "### plot one data"
   ]
  },
  {
   "cell_type": "code",
   "execution_count": 19,
   "metadata": {},
   "outputs": [
    {
     "name": "stdout",
     "output_type": "stream",
     "text": [
      "[AttrDict({'time': 1.0, 'value': 2.0}),\n",
      " AttrDict({'time': 3.0, 'value': 9.0}),\n",
      " AttrDict({'time': 10.0, 'value': 10.0}),\n",
      " AttrDict({'time': 12.0, 'value': 15.0})]\n"
     ]
    },
    {
     "data": {
      "image/png": "[encoded data removed]",
      "text/plain": [
       "<Figure size 432x288 with 1 Axes>"
      ]
     },
     "metadata": {
      "needs_background": "light"
     },
     "output_type": "display_data"
    }
   ],
   "source": [
    "sub_database = database.sub(a='a1', b='b1')\n",
    "pprint(sub_database.toDataset().datas)\n",
    "fig, ax = sub_database.lineplot(\n",
    "    xitem='time',\n",
    "    yitem='value',\n",
    "    label='a1-b1',\n",
    "    xnum=10,\n",
    ")\n",
    "ax.legend()\n",
    "ax.grid('--')"
   ]
  },
  {
   "cell_type": "code",
   "execution_count": 20,
   "metadata": {},
   "outputs": [
    {
     "name": "stdout",
     "output_type": "stream",
     "text": [
      "[AttrDict({'time': 3.0, 'value': 0.0}),\n",
      " AttrDict({'time': 4.0, 'value': 1.0}),\n",
      " AttrDict({'time': 10.0, 'value': 2.0})]\n"
     ]
    },
    {
     "data": {
      "image/png": "[encoded data removed]",
      "text/plain": [
       "<Figure size 432x288 with 1 Axes>"
      ]
     },
     "execution_count": 20,
     "metadata": {},
     "output_type": "execute_result"
    }
   ],
   "source": [
    "# add line\n",
    "sub_database = database.sub(a='a1', b='b2')\n",
    "pprint(sub_database.datas['a1', 'b2'].datas)\n",
    "\n",
    "sub_database.lineplot(\n",
    "    xitem='time',\n",
    "    yitem='value',\n",
    "    label='a1-b2',\n",
    "    fig=fig, ax=ax  # specify the fig, ax object overwrited\n",
    ")\n",
    "\n",
    "ax.legend()\n",
    "ax.set_xlabel('time')\n",
    "ax.set_ylabel('value')\n",
    "\n",
    "fig"
   ]
  },
  {
   "cell_type": "markdown",
   "metadata": {},
   "source": [
    "### Extruct multi database"
   ]
  },
  {
   "cell_type": "code",
   "execution_count": 21,
   "metadata": {},
   "outputs": [
    {
     "name": "stdout",
     "output_type": "stream",
     "text": [
      "======== load datsets : size 2 ====================\n",
      "\n",
      "dataset 0\n",
      "   load_set LoadSet(LoadSetElement(file='../storage_example1/a1_b1.txt', read_func=<function read at 0x10dc5d9d0>), None)\n",
      "\tsize     4\n",
      "\t\n",
      "\n",
      "dataset 1\n",
      "   load_set LoadSet(LoadSetElement(file='../storage_example1/a1_b2.txt', read_func=<function read at 0x10dc5d9d0>), None)\n",
      "\tsize     3\n",
      "\t\n",
      "===================================================\n"
     ]
    }
   ],
   "source": [
    "sub_database = database.sub(a='a1')\n",
    "print(sub_database)"
   ]
  },
  {
   "cell_type": "markdown",
   "metadata": {},
   "source": [
    "### meanplot"
   ]
  },
  {
   "cell_type": "code",
   "execution_count": 22,
   "metadata": {},
   "outputs": [
    {
     "data": {
      "text/plain": [
       "<matplotlib.legend.Legend at 0x11f6985b0>"
      ]
     },
     "execution_count": 22,
     "metadata": {},
     "output_type": "execute_result"
    },
    {
     "data": {
      "image/png": "[encoded data removed]",
      "text/plain": [
       "<Figure size 432x288 with 1 Axes>"
      ]
     },
     "metadata": {
      "needs_background": "light"
     },
     "output_type": "display_data"
    }
   ],
   "source": [
    "# plot the average of two datasets\n",
    "fig, ax = sub_database.lineplot(\n",
    "    xitem='time',\n",
    "    yitem='value',\n",
    "    label='mean',\n",
    "    plot_type='meanplot',\n",
    ")\n",
    "\n",
    "# ( sub plot )\n",
    "sub_database.sub(b='b1').lineplot(\n",
    "    xitem='time',\n",
    "    yitem='value',\n",
    "    label='b1',\n",
    "    fig=fig, ax=ax,\n",
    ")\n",
    "sub_database.sub(b='b2').lineplot(\n",
    "    xitem='time',\n",
    "    yitem='value',\n",
    "    label='b2',\n",
    "    fig=fig, ax=ax,\n",
    ")\n",
    "\n",
    "ax.grid('--')\n",
    "ax.legend()\n",
    "# fig"
   ]
  },
  {
   "cell_type": "markdown",
   "metadata": {},
   "source": [
    "### maxplot"
   ]
  },
  {
   "cell_type": "code",
   "execution_count": 23,
   "metadata": {},
   "outputs": [
    {
     "data": {
      "text/plain": [
       "<matplotlib.legend.Legend at 0x11f6c4040>"
      ]
     },
     "execution_count": 23,
     "metadata": {},
     "output_type": "execute_result"
    },
    {
     "data": {
      "image/png": "[encoded data removed]",
      "text/plain": [
       "<Figure size 432x288 with 1 Axes>"
      ]
     },
     "metadata": {
      "needs_background": "light"
     },
     "output_type": "display_data"
    }
   ],
   "source": [
    "# plot the average of two datasets\n",
    "fig, ax = sub_database.lineplot(\n",
    "    xitem='time',\n",
    "    yitem='value',\n",
    "    label='max',\n",
    "    plot_type='maxplot',\n",
    "    linewidth=4,\n",
    ")\n",
    "\n",
    "ax.grid('--')\n",
    "ax.legend()"
   ]
  },
  {
   "cell_type": "code",
   "execution_count": 24,
   "metadata": {},
   "outputs": [
    {
     "data": {
      "image/png": "[encoded data removed]",
      "text/plain": [
       "<Figure size 432x288 with 1 Axes>"
      ]
     },
     "execution_count": 24,
     "metadata": {},
     "output_type": "execute_result"
    }
   ],
   "source": [
    "sub_database.sub(b='b1').lineplot(\n",
    "    xitem='time',\n",
    "    yitem='value',\n",
    "    label='b1',\n",
    "    fig=fig, ax=ax,\n",
    ")\n",
    "sub_database.sub(b='b2').lineplot(\n",
    "    xitem='time',\n",
    "    yitem='value',\n",
    "    label='b2',\n",
    "    fig=fig, ax=ax,\n",
    ")\n",
    "ax.legend()\n",
    "fig"
   ]
  },
  {
   "cell_type": "markdown",
   "metadata": {},
   "source": [
    "### minplot"
   ]
  },
  {
   "cell_type": "code",
   "execution_count": 25,
   "metadata": {},
   "outputs": [
    {
     "data": {
      "text/plain": [
       "<matplotlib.legend.Legend at 0x11f9235b0>"
      ]
     },
     "execution_count": 25,
     "metadata": {},
     "output_type": "execute_result"
    },
    {
     "data": {
      "image/png": "[encoded data removed]",
      "text/plain": [
       "<Figure size 432x288 with 1 Axes>"
      ]
     },
     "metadata": {
      "needs_background": "light"
     },
     "output_type": "display_data"
    }
   ],
   "source": [
    "fig, ax = sub_database.lineplot(\n",
    "    xitem='time',\n",
    "    yitem='value',\n",
    "    label='min',\n",
    "    plot_type='minplot',\n",
    "    linewidth=5,\n",
    ")\n",
    "ax.grid('--')\n",
    "ax.legend()"
   ]
  },
  {
   "cell_type": "code",
   "execution_count": 26,
   "metadata": {},
   "outputs": [
    {
     "data": {
      "image/png": "[encoded data removed]",
      "text/plain": [
       "<Figure size 432x288 with 1 Axes>"
      ]
     },
     "execution_count": 26,
     "metadata": {},
     "output_type": "execute_result"
    }
   ],
   "source": [
    "sub_database.sub(b='b1').lineplot(\n",
    "    xitem='time',\n",
    "    yitem='value',\n",
    "    label='b1',\n",
    "    fig=fig, ax=ax,\n",
    ")\n",
    "sub_database.sub(b='b2').lineplot(\n",
    "    xitem='time',\n",
    "    yitem='value',\n",
    "    label='b2',\n",
    "    fig=fig, ax=ax,\n",
    ")\n",
    "ax.legend()\n",
    "fig"
   ]
  },
  {
   "cell_type": "markdown",
   "metadata": {},
   "source": [
    "## Scatter Plot"
   ]
  },
  {
   "cell_type": "code",
   "execution_count": 27,
   "metadata": {},
   "outputs": [
    {
     "name": "stdout",
     "output_type": "stream",
     "text": [
      "======== load datsets : size 2 ====================\n",
      "\n",
      "dataset 0\n",
      "   load_set LoadSet(LoadSetElement(file='../storage_example1/a1_b1.txt', read_func=<function read at 0x10dc5d9d0>), None)\n",
      "\tsize     4\n",
      "\t\n",
      "\n",
      "dataset 1\n",
      "   load_set LoadSet(LoadSetElement(file='../storage_example1/a1_b2.txt', read_func=<function read at 0x10dc5d9d0>), None)\n",
      "\tsize     3\n",
      "\t\n",
      "===================================================\n"
     ]
    }
   ],
   "source": [
    "sub_database = database.sub(a='a1')\n",
    "print(sub_database)"
   ]
  },
  {
   "cell_type": "code",
   "execution_count": 28,
   "metadata": {
    "scrolled": true
   },
   "outputs": [
    {
     "data": {
      "image/png": "[encoded data removed]",
      "text/plain": [
       "<Figure size 432x288 with 1 Axes>"
      ]
     },
     "metadata": {
      "needs_background": "light"
     },
     "output_type": "display_data"
    }
   ],
   "source": [
    "fig, ax = sub_database.sub(b='b1').scatterplot(\n",
    "    xitem='time',\n",
    "    yitem='value',\n",
    "    label='a1-b1',\n",
    ")\n",
    "sub_database.sub(b='b2').scatterplot(\n",
    "    xitem='time',\n",
    "    yitem='value',\n",
    "    label='a1-b2',\n",
    "    fig=fig, ax=ax,\n",
    ")\n",
    "ax.legend()\n",
    "ax.grid('--')"
   ]
  },
  {
   "cell_type": "markdown",
   "metadata": {},
   "source": [
    "## Hist Plot"
   ]
  },
  {
   "cell_type": "code",
   "execution_count": 29,
   "metadata": {},
   "outputs": [
    {
     "data": {
      "text/plain": [
       "(<Figure size 432x288 with 1 Axes>,\n",
       " <matplotlib.axes._subplots.AxesSubplot at 0x11fa130a0>)"
      ]
     },
     "execution_count": 29,
     "metadata": {},
     "output_type": "execute_result"
    },
    {
     "data": {
      "image/png": "[encoded data removed]",
      "text/plain": [
       "<Figure size 432x288 with 1 Axes>"
      ]
     },
     "metadata": {
      "needs_background": "light"
     },
     "output_type": "display_data"
    }
   ],
   "source": [
    "sub_database.histplot(\n",
    "    item='value'\n",
    ")"
   ]
  }
 ],
 "metadata": {
  "kernelspec": {
   "display_name": "Python 3",
   "language": "python",
   "name": "python3"
  },
  "language_info": {
   "codemirror_mode": {
    "name": "ipython",
    "version": 3
   },
   "file_extension": ".py",
   "mimetype": "text/x-python",
   "name": "python",
   "nbconvert_exporter": "python",
   "pygments_lexer": "ipython3",
   "version": "3.8.10"
  },
  "toc": {
   "base_numbering": 1,
   "nav_menu": {},
   "number_sections": true,
   "sideBar": true,
   "skip_h1_title": false,
   "title_cell": "Table of Contents",
   "title_sidebar": "Contents",
   "toc_cell": false,
   "toc_position": {
    "height": "calc(100% - 180px)",
    "left": "10px",
    "top": "150px",
    "width": "288px"
   },
   "toc_section_display": true,
   "toc_window_display": true
  }
 },
 "nbformat": 4,
 "nbformat_minor": 4
}
