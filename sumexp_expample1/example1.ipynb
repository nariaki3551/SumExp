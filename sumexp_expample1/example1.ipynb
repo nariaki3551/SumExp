{
 "cells": [
  {
   "cell_type": "code",
   "execution_count": 1,
   "metadata": {},
   "outputs": [],
   "source": [
    "from pprint import pprint\n",
    "from base import *\n",
    "\n",
    "import matplotlib.pyplot as plt"
   ]
  },
  {
   "cell_type": "markdown",
   "metadata": {},
   "source": [
    "## Check STORAGE and CUSTOM_SCR in setting.py"
   ]
  },
  {
   "cell_type": "code",
   "execution_count": 2,
   "metadata": {},
   "outputs": [
    {
     "name": "stdout",
     "output_type": "stream",
     "text": [
      "# for example1\r\n",
      "STORAGE = \"../storage_example1\"\r\n",
      "CUSTOM_SCR = \"custom_example1\"\r\n"
     ]
    }
   ],
   "source": [
    "# STORAGE is data directory\n",
    "# CUSTOM_SCR is directory which has read parameters and functions\n",
    "!cat ./setting.py"
   ]
  },
  {
   "cell_type": "code",
   "execution_count": 3,
   "metadata": {},
   "outputs": [
    {
     "name": "stdout",
     "output_type": "stream",
     "text": [
      "README.md a1_b1.txt a1_b2.txt a2_b1.txt a2_b2.txt cache\n"
     ]
    }
   ],
   "source": [
    "# check the files in storage\n",
    "!ls ./../storage_example1"
   ]
  },
  {
   "cell_type": "markdown",
   "metadata": {},
   "source": [
    "## Read log files"
   ]
  },
  {
   "cell_type": "code",
   "execution_count": 4,
   "metadata": {},
   "outputs": [
    {
     "name": "stdout",
     "output_type": "stream",
     "text": [
      "INFO:load_storage.py:<module>:save cache files in ../storage_example1/cache\n",
      "100%|███████████████████████████████████████████| 4/4 [00:00<00:00, 1585.90it/s]\n",
      "INFO:load_storage.py:save_database:size is 4\n"
     ]
    }
   ],
   "source": [
    "!python3 load_storage.py"
   ]
  },
  {
   "cell_type": "markdown",
   "metadata": {},
   "source": [
    "## Database Operations"
   ]
  },
  {
   "cell_type": "code",
   "execution_count": 5,
   "metadata": {},
   "outputs": [],
   "source": [
    "root = '../storage_example1/cache'  # cache directory ( see in --root argument of load_storage.py )\n",
    "database = Database(root)"
   ]
  },
  {
   "cell_type": "markdown",
   "metadata": {},
   "source": [
    "### Check Parameters"
   ]
  },
  {
   "cell_type": "code",
   "execution_count": 6,
   "metadata": {},
   "outputs": [
    {
     "data": {
      "text/plain": [
       "{Param(a='a1', b='b1'),\n",
       " Param(a='a1', b='b2'),\n",
       " Param(a='a2', b='b1'),\n",
       " Param(a='a2', b='b2')}"
      ]
     },
     "execution_count": 6,
     "metadata": {},
     "output_type": "execute_result"
    }
   ],
   "source": [
    "# display loadable data\n",
    "database.params"
   ]
  },
  {
   "cell_type": "markdown",
   "metadata": {},
   "source": [
    "### Interactive (automatic) dataset loading"
   ]
  },
  {
   "cell_type": "code",
   "execution_count": 7,
   "metadata": {},
   "outputs": [
    {
     "name": "stdout",
     "output_type": "stream",
     "text": [
      "Empty DataFrame\n",
      "Columns: []\n",
      "Index: []\n"
     ]
    }
   ],
   "source": [
    "# display loaded data\n",
    "print(database)"
   ]
  },
  {
   "cell_type": "code",
   "execution_count": 8,
   "metadata": {},
   "outputs": [
    {
     "name": "stdout",
     "output_type": "stream",
     "text": [
      "    a   b  size                       seq_data global_data\n",
      "0  a1  b1     4  ../storage_example1/a1_b1.txt        None\n"
     ]
    }
   ],
   "source": [
    "# load (a, b) = (a1, b1) dataset\n",
    "database['a1', 'b1']\n",
    "print(database)"
   ]
  },
  {
   "cell_type": "code",
   "execution_count": 9,
   "metadata": {},
   "outputs": [
    {
     "name": "stdout",
     "output_type": "stream",
     "text": [
      "    a   b  size                       seq_data global_data\n",
      "0  a1  b1     4  ../storage_example1/a1_b1.txt        None\n",
      "1  a1  b2     3  ../storage_example1/a1_b2.txt        None\n"
     ]
    }
   ],
   "source": [
    "# load (a, b) = (a1, b2) dataset\n",
    "database[Param(a='a1', b='b2')]\n",
    "print(database)"
   ]
  },
  {
   "cell_type": "markdown",
   "metadata": {},
   "source": [
    "### Free loaded dataset"
   ]
  },
  {
   "cell_type": "code",
   "execution_count": 10,
   "metadata": {},
   "outputs": [
    {
     "name": "stdout",
     "output_type": "stream",
     "text": [
      "Empty DataFrame\n",
      "Columns: []\n",
      "Index: []\n"
     ]
    }
   ],
   "source": [
    "database.free()\n",
    "print(database)"
   ]
  },
  {
   "cell_type": "markdown",
   "metadata": {},
   "source": [
    "### Extruct database"
   ]
  },
  {
   "cell_type": "code",
   "execution_count": 11,
   "metadata": {
    "scrolled": true
   },
   "outputs": [
    {
     "name": "stdout",
     "output_type": "stream",
     "text": [
      "    a   b  size                       seq_data global_data\n",
      "0  a1  b1     4  ../storage_example1/a1_b1.txt        None\n"
     ]
    }
   ],
   "source": [
    "# extract (a, b) = ('a1', 'b1') data\n",
    "sub_database = database.sub(a='a1', b='b1')\n",
    "print(sub_database)"
   ]
  },
  {
   "cell_type": "code",
   "execution_count": 12,
   "metadata": {},
   "outputs": [
    {
     "data": {
      "text/plain": [
       "Dataset(\"LoadSet(LoadSetElement(file='../storage_example1/a2_b2.txt', read_func=<function read at 0x130b7db80>), None)\")"
      ]
     },
     "execution_count": 12,
     "metadata": {},
     "output_type": "execute_result"
    }
   ],
   "source": [
    "# show detail\n",
    "sub_database[Param(a='a2', b='b2')]"
   ]
  },
  {
   "cell_type": "code",
   "execution_count": 13,
   "metadata": {},
   "outputs": [
    {
     "data": {
      "text/plain": [
       "[AttrDict({'time': 0.0, 'value': 10.0}),\n",
       " AttrDict({'time': 2.0, 'value': 15.0}),\n",
       " AttrDict({'time': 10.0, 'value': 20.0})]"
      ]
     },
     "execution_count": 13,
     "metadata": {},
     "output_type": "execute_result"
    }
   ],
   "source": [
    "# show more detail\n",
    "sub_database[Param(a='a2', b='b2')].datas"
   ]
  },
  {
   "cell_type": "markdown",
   "metadata": {},
   "source": [
    "### Add or Sub database"
   ]
  },
  {
   "cell_type": "code",
   "execution_count": 14,
   "metadata": {},
   "outputs": [
    {
     "name": "stdout",
     "output_type": "stream",
     "text": [
      "    a   b  size                       seq_data global_data\n",
      "0  a1  b2     3  ../storage_example1/a1_b2.txt        None\n"
     ]
    }
   ],
   "source": [
    "sub_database = database.sub(a='a1', b='b1') + database.sub(a='a1', b='b2')\n",
    "print(sub_database)"
   ]
  },
  {
   "cell_type": "code",
   "execution_count": 15,
   "metadata": {},
   "outputs": [
    {
     "name": "stdout",
     "output_type": "stream",
     "text": [
      "{Param(a='a1', b='b2'): Dataset(\"LoadSet(LoadSetElement(file='../storage_example1/a1_b2.txt', read_func=<function read at 0x130b7db80>), None)\")}\n"
     ]
    }
   ],
   "source": [
    "print(sub_database.datas)"
   ]
  },
  {
   "cell_type": "code",
   "execution_count": 16,
   "metadata": {},
   "outputs": [
    {
     "name": "stdout",
     "output_type": "stream",
     "text": [
      "    a   b  size                       seq_data global_data\n",
      "0  a1  b2     3  ../storage_example1/a1_b2.txt        None\n"
     ]
    }
   ],
   "source": [
    "sub_database -= database.sub(a='a1', b='b1')\n",
    "print(sub_database)"
   ]
  },
  {
   "cell_type": "markdown",
   "metadata": {},
   "source": [
    "### multi-process processing"
   ]
  },
  {
   "cell_type": "code",
   "execution_count": 17,
   "metadata": {},
   "outputs": [
    {
     "data": {
      "text/plain": [
       "<base.Database.Database at 0x130bb76d0>"
      ]
     },
     "execution_count": 17,
     "metadata": {},
     "output_type": "execute_result"
    }
   ],
   "source": [
    "# reset\n",
    "database.free()"
   ]
  },
  {
   "cell_type": "code",
   "execution_count": 18,
   "metadata": {
    "scrolled": true
   },
   "outputs": [
    {
     "name": "stderr",
     "output_type": "stream",
     "text": [
      "100%|██████████| 4/4 [00:01<00:00,  3.06it/s]\n"
     ]
    },
    {
     "data": {
      "text/plain": [
       "<base.Database.Database at 0x130c54fa0>"
      ]
     },
     "execution_count": 18,
     "metadata": {},
     "output_type": "execute_result"
    }
   ],
   "source": [
    "# set the number of processes\n",
    "database.setProcesses(2)\n",
    "database.setTqdm()\n",
    "\n",
    "# load all datas with parallel\n",
    "database.setAll()"
   ]
  },
  {
   "cell_type": "markdown",
   "metadata": {},
   "source": [
    "### Convert to DataFrame of pandas"
   ]
  },
  {
   "cell_type": "code",
   "execution_count": 19,
   "metadata": {},
   "outputs": [
    {
     "data": {
      "text/html": [
       "<div>\n",
       "<style scoped>\n",
       "    .dataframe tbody tr th:only-of-type {\n",
       "        vertical-align: middle;\n",
       "    }\n",
       "\n",
       "    .dataframe tbody tr th {\n",
       "        vertical-align: top;\n",
       "    }\n",
       "\n",
       "    .dataframe thead th {\n",
       "        text-align: right;\n",
       "    }\n",
       "</style>\n",
       "<table border=\"1\" class=\"dataframe\">\n",
       "  <thead>\n",
       "    <tr style=\"text-align: right;\">\n",
       "      <th></th>\n",
       "      <th>time</th>\n",
       "      <th>value</th>\n",
       "      <th>a</th>\n",
       "      <th>b</th>\n",
       "      <th>param</th>\n",
       "    </tr>\n",
       "  </thead>\n",
       "  <tbody>\n",
       "    <tr>\n",
       "      <th>0</th>\n",
       "      <td>1.0</td>\n",
       "      <td>2.0</td>\n",
       "      <td>a1</td>\n",
       "      <td>b1</td>\n",
       "      <td>a1_b1</td>\n",
       "    </tr>\n",
       "    <tr>\n",
       "      <th>1</th>\n",
       "      <td>3.0</td>\n",
       "      <td>9.0</td>\n",
       "      <td>a1</td>\n",
       "      <td>b1</td>\n",
       "      <td>a1_b1</td>\n",
       "    </tr>\n",
       "    <tr>\n",
       "      <th>2</th>\n",
       "      <td>10.0</td>\n",
       "      <td>10.0</td>\n",
       "      <td>a1</td>\n",
       "      <td>b1</td>\n",
       "      <td>a1_b1</td>\n",
       "    </tr>\n",
       "    <tr>\n",
       "      <th>3</th>\n",
       "      <td>12.0</td>\n",
       "      <td>15.0</td>\n",
       "      <td>a1</td>\n",
       "      <td>b1</td>\n",
       "      <td>a1_b1</td>\n",
       "    </tr>\n",
       "    <tr>\n",
       "      <th>0</th>\n",
       "      <td>0.0</td>\n",
       "      <td>10.0</td>\n",
       "      <td>a2</td>\n",
       "      <td>b2</td>\n",
       "      <td>a2_b2</td>\n",
       "    </tr>\n",
       "    <tr>\n",
       "      <th>1</th>\n",
       "      <td>2.0</td>\n",
       "      <td>15.0</td>\n",
       "      <td>a2</td>\n",
       "      <td>b2</td>\n",
       "      <td>a2_b2</td>\n",
       "    </tr>\n",
       "    <tr>\n",
       "      <th>2</th>\n",
       "      <td>10.0</td>\n",
       "      <td>20.0</td>\n",
       "      <td>a2</td>\n",
       "      <td>b2</td>\n",
       "      <td>a2_b2</td>\n",
       "    </tr>\n",
       "    <tr>\n",
       "      <th>0</th>\n",
       "      <td>3.0</td>\n",
       "      <td>2.0</td>\n",
       "      <td>a2</td>\n",
       "      <td>b1</td>\n",
       "      <td>a2_b1</td>\n",
       "    </tr>\n",
       "    <tr>\n",
       "      <th>1</th>\n",
       "      <td>10.0</td>\n",
       "      <td>10.0</td>\n",
       "      <td>a2</td>\n",
       "      <td>b1</td>\n",
       "      <td>a2_b1</td>\n",
       "    </tr>\n",
       "    <tr>\n",
       "      <th>0</th>\n",
       "      <td>3.0</td>\n",
       "      <td>0.0</td>\n",
       "      <td>a1</td>\n",
       "      <td>b2</td>\n",
       "      <td>a1_b2</td>\n",
       "    </tr>\n",
       "    <tr>\n",
       "      <th>1</th>\n",
       "      <td>4.0</td>\n",
       "      <td>1.0</td>\n",
       "      <td>a1</td>\n",
       "      <td>b2</td>\n",
       "      <td>a1_b2</td>\n",
       "    </tr>\n",
       "    <tr>\n",
       "      <th>2</th>\n",
       "      <td>10.0</td>\n",
       "      <td>2.0</td>\n",
       "      <td>a1</td>\n",
       "      <td>b2</td>\n",
       "      <td>a1_b2</td>\n",
       "    </tr>\n",
       "  </tbody>\n",
       "</table>\n",
       "</div>"
      ],
      "text/plain": [
       "   time  value   a   b  param\n",
       "0   1.0    2.0  a1  b1  a1_b1\n",
       "1   3.0    9.0  a1  b1  a1_b1\n",
       "2  10.0   10.0  a1  b1  a1_b1\n",
       "3  12.0   15.0  a1  b1  a1_b1\n",
       "0   0.0   10.0  a2  b2  a2_b2\n",
       "1   2.0   15.0  a2  b2  a2_b2\n",
       "2  10.0   20.0  a2  b2  a2_b2\n",
       "0   3.0    2.0  a2  b1  a2_b1\n",
       "1  10.0   10.0  a2  b1  a2_b1\n",
       "0   3.0    0.0  a1  b2  a1_b2\n",
       "1   4.0    1.0  a1  b2  a1_b2\n",
       "2  10.0    2.0  a1  b2  a1_b2"
      ]
     },
     "execution_count": 19,
     "metadata": {},
     "output_type": "execute_result"
    }
   ],
   "source": [
    "database.toDataFrame()"
   ]
  },
  {
   "cell_type": "code",
   "execution_count": 20,
   "metadata": {},
   "outputs": [
    {
     "data": {
      "text/html": [
       "<div>\n",
       "<style scoped>\n",
       "    .dataframe tbody tr th:only-of-type {\n",
       "        vertical-align: middle;\n",
       "    }\n",
       "\n",
       "    .dataframe tbody tr th {\n",
       "        vertical-align: top;\n",
       "    }\n",
       "\n",
       "    .dataframe thead th {\n",
       "        text-align: right;\n",
       "    }\n",
       "</style>\n",
       "<table border=\"1\" class=\"dataframe\">\n",
       "  <thead>\n",
       "    <tr style=\"text-align: right;\">\n",
       "      <th></th>\n",
       "      <th>time</th>\n",
       "      <th>value</th>\n",
       "      <th>a</th>\n",
       "      <th>b</th>\n",
       "      <th>param</th>\n",
       "    </tr>\n",
       "  </thead>\n",
       "  <tbody>\n",
       "    <tr>\n",
       "      <th>0</th>\n",
       "      <td>1.0</td>\n",
       "      <td>2.0</td>\n",
       "      <td>a1</td>\n",
       "      <td>b1</td>\n",
       "      <td>a1_b1</td>\n",
       "    </tr>\n",
       "    <tr>\n",
       "      <th>1</th>\n",
       "      <td>3.0</td>\n",
       "      <td>9.0</td>\n",
       "      <td>a1</td>\n",
       "      <td>b1</td>\n",
       "      <td>a1_b1</td>\n",
       "    </tr>\n",
       "    <tr>\n",
       "      <th>2</th>\n",
       "      <td>10.0</td>\n",
       "      <td>10.0</td>\n",
       "      <td>a1</td>\n",
       "      <td>b1</td>\n",
       "      <td>a1_b1</td>\n",
       "    </tr>\n",
       "    <tr>\n",
       "      <th>3</th>\n",
       "      <td>12.0</td>\n",
       "      <td>15.0</td>\n",
       "      <td>a1</td>\n",
       "      <td>b1</td>\n",
       "      <td>a1_b1</td>\n",
       "    </tr>\n",
       "    <tr>\n",
       "      <th>0</th>\n",
       "      <td>0.0</td>\n",
       "      <td>10.0</td>\n",
       "      <td>a2</td>\n",
       "      <td>b2</td>\n",
       "      <td>a2_b2</td>\n",
       "    </tr>\n",
       "    <tr>\n",
       "      <th>1</th>\n",
       "      <td>2.0</td>\n",
       "      <td>15.0</td>\n",
       "      <td>a2</td>\n",
       "      <td>b2</td>\n",
       "      <td>a2_b2</td>\n",
       "    </tr>\n",
       "    <tr>\n",
       "      <th>2</th>\n",
       "      <td>10.0</td>\n",
       "      <td>20.0</td>\n",
       "      <td>a2</td>\n",
       "      <td>b2</td>\n",
       "      <td>a2_b2</td>\n",
       "    </tr>\n",
       "    <tr>\n",
       "      <th>0</th>\n",
       "      <td>3.0</td>\n",
       "      <td>2.0</td>\n",
       "      <td>a2</td>\n",
       "      <td>b1</td>\n",
       "      <td>a2_b1</td>\n",
       "    </tr>\n",
       "    <tr>\n",
       "      <th>1</th>\n",
       "      <td>10.0</td>\n",
       "      <td>10.0</td>\n",
       "      <td>a2</td>\n",
       "      <td>b1</td>\n",
       "      <td>a2_b1</td>\n",
       "    </tr>\n",
       "    <tr>\n",
       "      <th>0</th>\n",
       "      <td>3.0</td>\n",
       "      <td>0.0</td>\n",
       "      <td>a1</td>\n",
       "      <td>b2</td>\n",
       "      <td>a1_b2</td>\n",
       "    </tr>\n",
       "    <tr>\n",
       "      <th>1</th>\n",
       "      <td>4.0</td>\n",
       "      <td>1.0</td>\n",
       "      <td>a1</td>\n",
       "      <td>b2</td>\n",
       "      <td>a1_b2</td>\n",
       "    </tr>\n",
       "    <tr>\n",
       "      <th>2</th>\n",
       "      <td>10.0</td>\n",
       "      <td>2.0</td>\n",
       "      <td>a1</td>\n",
       "      <td>b2</td>\n",
       "      <td>a1_b2</td>\n",
       "    </tr>\n",
       "  </tbody>\n",
       "</table>\n",
       "</div>"
      ],
      "text/plain": [
       "   time  value   a   b  param\n",
       "0   1.0    2.0  a1  b1  a1_b1\n",
       "1   3.0    9.0  a1  b1  a1_b1\n",
       "2  10.0   10.0  a1  b1  a1_b1\n",
       "3  12.0   15.0  a1  b1  a1_b1\n",
       "0   0.0   10.0  a2  b2  a2_b2\n",
       "1   2.0   15.0  a2  b2  a2_b2\n",
       "2  10.0   20.0  a2  b2  a2_b2\n",
       "0   3.0    2.0  a2  b1  a2_b1\n",
       "1  10.0   10.0  a2  b1  a2_b1\n",
       "0   3.0    0.0  a1  b2  a1_b2\n",
       "1   4.0    1.0  a1  b2  a1_b2\n",
       "2  10.0    2.0  a1  b2  a1_b2"
      ]
     },
     "execution_count": 20,
     "metadata": {},
     "output_type": "execute_result"
    }
   ],
   "source": [
    "# extract some columns\n",
    "database.toDataFrame(columns=['time', 'value'])"
   ]
  },
  {
   "cell_type": "code",
   "execution_count": 21,
   "metadata": {},
   "outputs": [
    {
     "data": {
      "text/html": [
       "<div>\n",
       "<style scoped>\n",
       "    .dataframe tbody tr th:only-of-type {\n",
       "        vertical-align: middle;\n",
       "    }\n",
       "\n",
       "    .dataframe tbody tr th {\n",
       "        vertical-align: top;\n",
       "    }\n",
       "\n",
       "    .dataframe thead th {\n",
       "        text-align: right;\n",
       "    }\n",
       "</style>\n",
       "<table border=\"1\" class=\"dataframe\">\n",
       "  <thead>\n",
       "    <tr style=\"text-align: right;\">\n",
       "      <th></th>\n",
       "      <th>time</th>\n",
       "      <th>value</th>\n",
       "    </tr>\n",
       "  </thead>\n",
       "  <tbody>\n",
       "    <tr>\n",
       "      <th>0</th>\n",
       "      <td>1.0</td>\n",
       "      <td>2.0</td>\n",
       "    </tr>\n",
       "    <tr>\n",
       "      <th>1</th>\n",
       "      <td>3.0</td>\n",
       "      <td>9.0</td>\n",
       "    </tr>\n",
       "    <tr>\n",
       "      <th>2</th>\n",
       "      <td>10.0</td>\n",
       "      <td>10.0</td>\n",
       "    </tr>\n",
       "    <tr>\n",
       "      <th>3</th>\n",
       "      <td>12.0</td>\n",
       "      <td>15.0</td>\n",
       "    </tr>\n",
       "    <tr>\n",
       "      <th>0</th>\n",
       "      <td>0.0</td>\n",
       "      <td>10.0</td>\n",
       "    </tr>\n",
       "    <tr>\n",
       "      <th>1</th>\n",
       "      <td>2.0</td>\n",
       "      <td>15.0</td>\n",
       "    </tr>\n",
       "    <tr>\n",
       "      <th>2</th>\n",
       "      <td>10.0</td>\n",
       "      <td>20.0</td>\n",
       "    </tr>\n",
       "    <tr>\n",
       "      <th>0</th>\n",
       "      <td>3.0</td>\n",
       "      <td>2.0</td>\n",
       "    </tr>\n",
       "    <tr>\n",
       "      <th>1</th>\n",
       "      <td>10.0</td>\n",
       "      <td>10.0</td>\n",
       "    </tr>\n",
       "    <tr>\n",
       "      <th>0</th>\n",
       "      <td>3.0</td>\n",
       "      <td>0.0</td>\n",
       "    </tr>\n",
       "    <tr>\n",
       "      <th>1</th>\n",
       "      <td>4.0</td>\n",
       "      <td>1.0</td>\n",
       "    </tr>\n",
       "    <tr>\n",
       "      <th>2</th>\n",
       "      <td>10.0</td>\n",
       "      <td>2.0</td>\n",
       "    </tr>\n",
       "  </tbody>\n",
       "</table>\n",
       "</div>"
      ],
      "text/plain": [
       "   time  value\n",
       "0   1.0    2.0\n",
       "1   3.0    9.0\n",
       "2  10.0   10.0\n",
       "3  12.0   15.0\n",
       "0   0.0   10.0\n",
       "1   2.0   15.0\n",
       "2  10.0   20.0\n",
       "0   3.0    2.0\n",
       "1  10.0   10.0\n",
       "0   3.0    0.0\n",
       "1   4.0    1.0\n",
       "2  10.0    2.0"
      ]
     },
     "execution_count": 21,
     "metadata": {},
     "output_type": "execute_result"
    }
   ],
   "source": [
    "# extract some columns\n",
    "database.toDataFrame(columns=['time', 'value'], param=False)"
   ]
  },
  {
   "cell_type": "markdown",
   "metadata": {},
   "source": [
    "### Diff"
   ]
  },
  {
   "cell_type": "code",
   "execution_count": 22,
   "metadata": {},
   "outputs": [
    {
     "data": {
      "text/html": [
       "<div>\n",
       "<style scoped>\n",
       "    .dataframe tbody tr th:only-of-type {\n",
       "        vertical-align: middle;\n",
       "    }\n",
       "\n",
       "    .dataframe tbody tr th {\n",
       "        vertical-align: top;\n",
       "    }\n",
       "\n",
       "    .dataframe thead th {\n",
       "        text-align: right;\n",
       "    }\n",
       "</style>\n",
       "<table border=\"1\" class=\"dataframe\">\n",
       "  <thead>\n",
       "    <tr style=\"text-align: right;\">\n",
       "      <th></th>\n",
       "      <th>time</th>\n",
       "      <th>value</th>\n",
       "      <th>diff_value</th>\n",
       "      <th>diff_time</th>\n",
       "      <th>a</th>\n",
       "      <th>b</th>\n",
       "      <th>param</th>\n",
       "    </tr>\n",
       "  </thead>\n",
       "  <tbody>\n",
       "    <tr>\n",
       "      <th>0</th>\n",
       "      <td>1.0</td>\n",
       "      <td>2.0</td>\n",
       "      <td>NaN</td>\n",
       "      <td>NaN</td>\n",
       "      <td>a1</td>\n",
       "      <td>b1</td>\n",
       "      <td>a1_b1</td>\n",
       "    </tr>\n",
       "    <tr>\n",
       "      <th>1</th>\n",
       "      <td>3.0</td>\n",
       "      <td>9.0</td>\n",
       "      <td>7.0</td>\n",
       "      <td>2.0</td>\n",
       "      <td>a1</td>\n",
       "      <td>b1</td>\n",
       "      <td>a1_b1</td>\n",
       "    </tr>\n",
       "    <tr>\n",
       "      <th>2</th>\n",
       "      <td>10.0</td>\n",
       "      <td>10.0</td>\n",
       "      <td>1.0</td>\n",
       "      <td>7.0</td>\n",
       "      <td>a1</td>\n",
       "      <td>b1</td>\n",
       "      <td>a1_b1</td>\n",
       "    </tr>\n",
       "    <tr>\n",
       "      <th>3</th>\n",
       "      <td>12.0</td>\n",
       "      <td>15.0</td>\n",
       "      <td>5.0</td>\n",
       "      <td>2.0</td>\n",
       "      <td>a1</td>\n",
       "      <td>b1</td>\n",
       "      <td>a1_b1</td>\n",
       "    </tr>\n",
       "  </tbody>\n",
       "</table>\n",
       "</div>"
      ],
      "text/plain": [
       "   time  value  diff_value  diff_time   a   b  param\n",
       "0   1.0    2.0         NaN        NaN  a1  b1  a1_b1\n",
       "1   3.0    9.0         7.0        2.0  a1  b1  a1_b1\n",
       "2  10.0   10.0         1.0        7.0  a1  b1  a1_b1\n",
       "3  12.0   15.0         5.0        2.0  a1  b1  a1_b1"
      ]
     },
     "execution_count": 22,
     "metadata": {},
     "output_type": "execute_result"
    }
   ],
   "source": [
    "# create diff about value for all dataset\n",
    "database.diff('value', n=1)\n",
    "database.diff('time', n=1)\n",
    "# check one dataset\n",
    "database[Param(a='a1', b='b1')].toDataFrame()"
   ]
  },
  {
   "cell_type": "markdown",
   "metadata": {},
   "source": [
    "### Reduce datasets"
   ]
  },
  {
   "cell_type": "code",
   "execution_count": 23,
   "metadata": {},
   "outputs": [
    {
     "data": {
      "text/html": [
       "<div>\n",
       "<style scoped>\n",
       "    .dataframe tbody tr th:only-of-type {\n",
       "        vertical-align: middle;\n",
       "    }\n",
       "\n",
       "    .dataframe tbody tr th {\n",
       "        vertical-align: top;\n",
       "    }\n",
       "\n",
       "    .dataframe thead th {\n",
       "        text-align: right;\n",
       "    }\n",
       "</style>\n",
       "<table border=\"1\" class=\"dataframe\">\n",
       "  <thead>\n",
       "    <tr style=\"text-align: right;\">\n",
       "      <th></th>\n",
       "      <th>time</th>\n",
       "      <th>value</th>\n",
       "    </tr>\n",
       "  </thead>\n",
       "  <tbody>\n",
       "    <tr>\n",
       "      <th>0</th>\n",
       "      <td>3.000000</td>\n",
       "      <td>0.0</td>\n",
       "    </tr>\n",
       "    <tr>\n",
       "      <th>1</th>\n",
       "      <td>3.777778</td>\n",
       "      <td>0.0</td>\n",
       "    </tr>\n",
       "    <tr>\n",
       "      <th>2</th>\n",
       "      <td>4.555556</td>\n",
       "      <td>1.0</td>\n",
       "    </tr>\n",
       "    <tr>\n",
       "      <th>3</th>\n",
       "      <td>5.333333</td>\n",
       "      <td>1.0</td>\n",
       "    </tr>\n",
       "    <tr>\n",
       "      <th>4</th>\n",
       "      <td>6.111111</td>\n",
       "      <td>1.0</td>\n",
       "    </tr>\n",
       "    <tr>\n",
       "      <th>5</th>\n",
       "      <td>6.888889</td>\n",
       "      <td>1.0</td>\n",
       "    </tr>\n",
       "    <tr>\n",
       "      <th>6</th>\n",
       "      <td>7.666667</td>\n",
       "      <td>1.0</td>\n",
       "    </tr>\n",
       "    <tr>\n",
       "      <th>7</th>\n",
       "      <td>8.444444</td>\n",
       "      <td>1.0</td>\n",
       "    </tr>\n",
       "    <tr>\n",
       "      <th>8</th>\n",
       "      <td>9.222222</td>\n",
       "      <td>1.0</td>\n",
       "    </tr>\n",
       "    <tr>\n",
       "      <th>9</th>\n",
       "      <td>10.000000</td>\n",
       "      <td>2.0</td>\n",
       "    </tr>\n",
       "  </tbody>\n",
       "</table>\n",
       "</div>"
      ],
      "text/plain": [
       "        time  value\n",
       "0   3.000000    0.0\n",
       "1   3.777778    0.0\n",
       "2   4.555556    1.0\n",
       "3   5.333333    1.0\n",
       "4   6.111111    1.0\n",
       "5   6.888889    1.0\n",
       "6   7.666667    1.0\n",
       "7   8.444444    1.0\n",
       "8   9.222222    1.0\n",
       "9  10.000000    2.0"
      ]
     },
     "execution_count": 23,
     "metadata": {},
     "output_type": "execute_result"
    }
   ],
   "source": [
    "sub_database.sub(param=Param(a='a1', b='b1'))\n",
    "dataset = sub_database.reduce('time', items=['value'], num=10)  # reduce with key=time\n",
    "dataset.toDataFrame()"
   ]
  },
  {
   "cell_type": "markdown",
   "metadata": {},
   "source": [
    "## Line Plot"
   ]
  },
  {
   "cell_type": "markdown",
   "metadata": {},
   "source": [
    "we have time-series data with parameter a and b, such that"
   ]
  },
  {
   "cell_type": "code",
   "execution_count": 24,
   "metadata": {},
   "outputs": [
    {
     "name": "stderr",
     "output_type": "stream",
     "text": [
      "100%|██████████| 4/4 [00:01<00:00,  3.12it/s]\n"
     ]
    },
    {
     "name": "stdout",
     "output_type": "stream",
     "text": [
      "    a   b  size                       seq_data global_data\n",
      "0  a1  b2     3  ../storage_example1/a1_b2.txt        None\n",
      "1  a2  b2     3  ../storage_example1/a2_b2.txt        None\n",
      "2  a2  b1     2  ../storage_example1/a2_b1.txt        None\n",
      "3  a1  b1     4  ../storage_example1/a1_b1.txt        None\n"
     ]
    }
   ],
   "source": [
    "# reset\n",
    "database.free()\n",
    "database.setAll()\n",
    "print(database)"
   ]
  },
  {
   "cell_type": "markdown",
   "metadata": {},
   "source": [
    "### plot one data"
   ]
  },
  {
   "cell_type": "code",
   "execution_count": 25,
   "metadata": {},
   "outputs": [
    {
     "name": "stdout",
     "output_type": "stream",
     "text": [
      "[AttrDict({'time': 1.0, 'value': 2.0}),\n",
      " AttrDict({'time': 3.0, 'value': 9.0}),\n",
      " AttrDict({'time': 10.0, 'value': 10.0}),\n",
      " AttrDict({'time': 12.0, 'value': 15.0})]\n"
     ]
    },
    {
     "data": {
      "image/png": "[encoded data removed]",
      "text/plain": [
       "<Figure size 432x288 with 1 Axes>"
      ]
     },
     "metadata": {
      "needs_background": "light"
     },
     "output_type": "display_data"
    }
   ],
   "source": [
    "sub_database = database.sub(a='a1', b='b1')\n",
    "pprint(sub_database.toDataset().datas)\n",
    "fig, ax = plt.subplots()\n",
    "ax = sub_database.lineplot(\n",
    "    xitem='time',\n",
    "    yitem='value',\n",
    "    label='a1-b1',\n",
    "    xnum=10,\n",
    "    ax=ax,\n",
    ")\n",
    "ax.legend()\n",
    "ax.grid('--')"
   ]
  },
  {
   "cell_type": "code",
   "execution_count": 26,
   "metadata": {},
   "outputs": [
    {
     "name": "stdout",
     "output_type": "stream",
     "text": [
      "[AttrDict({'time': 3.0, 'value': 0.0}),\n",
      " AttrDict({'time': 4.0, 'value': 1.0}),\n",
      " AttrDict({'time': 10.0, 'value': 2.0})]\n"
     ]
    },
    {
     "data": {
      "image/png": "[encoded data removed]",
      "text/plain": [
       "<Figure size 432x288 with 1 Axes>"
      ]
     },
     "execution_count": 26,
     "metadata": {},
     "output_type": "execute_result"
    }
   ],
   "source": [
    "# add line\n",
    "sub_database = database.sub(a='a1', b='b2')\n",
    "pprint(sub_database.datas['a1', 'b2'].datas)\n",
    "\n",
    "sub_database.lineplot(\n",
    "    xitem='time',\n",
    "    yitem='value',\n",
    "    label='a1-b2',\n",
    "    ax=ax  # specify the fig, ax object overwrited\n",
    ")\n",
    "\n",
    "ax.legend()\n",
    "ax.set_xlabel('time')\n",
    "ax.set_ylabel('value')\n",
    "fig"
   ]
  },
  {
   "cell_type": "markdown",
   "metadata": {},
   "source": [
    "### Extruct multi database"
   ]
  },
  {
   "cell_type": "code",
   "execution_count": 27,
   "metadata": {},
   "outputs": [
    {
     "name": "stdout",
     "output_type": "stream",
     "text": [
      "    a   b  size                       seq_data global_data\n",
      "0  a1  b2     3  ../storage_example1/a1_b2.txt        None\n",
      "1  a1  b1     4  ../storage_example1/a1_b1.txt        None\n"
     ]
    }
   ],
   "source": [
    "sub_database = database.sub(a='a1')\n",
    "print(sub_database)"
   ]
  },
  {
   "cell_type": "markdown",
   "metadata": {},
   "source": [
    "### meanplot"
   ]
  },
  {
   "cell_type": "code",
   "execution_count": 28,
   "metadata": {},
   "outputs": [
    {
     "data": {
      "text/plain": [
       "<matplotlib.legend.Legend at 0x130e4f610>"
      ]
     },
     "execution_count": 28,
     "metadata": {},
     "output_type": "execute_result"
    },
    {
     "data": {
      "image/png": "[encoded data removed]",
      "text/plain": [
       "<Figure size 432x288 with 1 Axes>"
      ]
     },
     "metadata": {
      "needs_background": "light"
     },
     "output_type": "display_data"
    }
   ],
   "source": [
    "# plot the average of two datasets\n",
    "ax = sub_database.lineplot(\n",
    "    xitem='time',\n",
    "    yitem='value',\n",
    "    label='mean',\n",
    "    linewidth=4,\n",
    ")\n",
    "\n",
    "# ( sub plot )\n",
    "sub_database.sub(b='b1').lineplot(\n",
    "    xitem='time',\n",
    "    yitem='value',\n",
    "    label='b1',\n",
    "    ax=ax,\n",
    ")\n",
    "sub_database.sub(b='b2').lineplot(\n",
    "    xitem='time',\n",
    "    yitem='value',\n",
    "    label='b2',\n",
    "    ax=ax,\n",
    ")\n",
    "\n",
    "ax.grid('--')\n",
    "ax.legend()"
   ]
  },
  {
   "cell_type": "code",
   "execution_count": 29,
   "metadata": {},
   "outputs": [],
   "source": [
    "# sub_database.sub(b='b1').toDataset().lineplot('time', 'value')"
   ]
  },
  {
   "cell_type": "markdown",
   "metadata": {},
   "source": [
    "#### plot mean with not extended data for each dataset"
   ]
  },
  {
   "cell_type": "code",
   "execution_count": 30,
   "metadata": {},
   "outputs": [
    {
     "data": {
      "text/plain": [
       "<matplotlib.legend.Legend at 0x130ebd670>"
      ]
     },
     "execution_count": 30,
     "metadata": {},
     "output_type": "execute_result"
    },
    {
     "data": {
      "image/png": "[encoded data removed]",
      "text/plain": [
       "<Figure size 432x288 with 1 Axes>"
      ]
     },
     "metadata": {
      "needs_background": "light"
     },
     "output_type": "display_data"
    }
   ],
   "source": [
    "# plot the average of two datasets\n",
    "ax = sub_database.lineplot(\n",
    "    xitem='time',\n",
    "    yitem='value',\n",
    "    label='mean',\n",
    "    linewidth=4,\n",
    "    extend=False,\n",
    ")\n",
    "\n",
    "# ( sub plot )\n",
    "sub_database.sub(b='b1').lineplot(\n",
    "    xitem='time',\n",
    "    yitem='value',\n",
    "    label='b1',\n",
    "    ax=ax,\n",
    ")\n",
    "sub_database.sub(b='b2').lineplot(\n",
    "    xitem='time',\n",
    "    yitem='value',\n",
    "    label='b2',\n",
    "    ax=ax,\n",
    ")\n",
    "\n",
    "ax.grid('--')\n",
    "ax.legend()"
   ]
  },
  {
   "cell_type": "markdown",
   "metadata": {},
   "source": [
    "#### plot mean only overwraped with not extended data for each dataset"
   ]
  },
  {
   "cell_type": "code",
   "execution_count": 31,
   "metadata": {},
   "outputs": [
    {
     "data": {
      "text/plain": [
       "<matplotlib.legend.Legend at 0x130f10c10>"
      ]
     },
     "execution_count": 31,
     "metadata": {},
     "output_type": "execute_result"
    },
    {
     "data": {
      "image/png": "[encoded data removed]",
      "text/plain": [
       "<Figure size 432x288 with 1 Axes>"
      ]
     },
     "metadata": {
      "needs_background": "light"
     },
     "output_type": "display_data"
    }
   ],
   "source": [
    "# plot the average of two datasets\n",
    "ax = sub_database.lineplot(\n",
    "    xitem='time',\n",
    "    yitem='value',\n",
    "    label='mean',\n",
    "    linewidth=4,\n",
    "    extend=False,\n",
    "    overwrap=1.0,\n",
    ")\n",
    "\n",
    "# ( sub plot )\n",
    "sub_database.sub(b='b1').lineplot(\n",
    "    xitem='time',\n",
    "    yitem='value',\n",
    "    label='b1',\n",
    "    ax=ax,\n",
    ")\n",
    "sub_database.sub(b='b2').lineplot(\n",
    "    xitem='time',\n",
    "    yitem='value',\n",
    "    label='b2',\n",
    "    ax=ax,\n",
    ")\n",
    "\n",
    "ax.grid('--')\n",
    "ax.legend()"
   ]
  },
  {
   "cell_type": "markdown",
   "metadata": {},
   "source": [
    "### meanplot with confidence interval"
   ]
  },
  {
   "cell_type": "code",
   "execution_count": 32,
   "metadata": {},
   "outputs": [
    {
     "data": {
      "text/plain": [
       "<matplotlib.legend.Legend at 0x130f1fdc0>"
      ]
     },
     "execution_count": 32,
     "metadata": {},
     "output_type": "execute_result"
    },
    {
     "data": {
      "image/png": "[encoded data removed]",
      "text/plain": [
       "<Figure size 432x288 with 1 Axes>"
      ]
     },
     "metadata": {
      "needs_background": "light"
     },
     "output_type": "display_data"
    }
   ],
   "source": [
    "# specify ci to size of the confidence interval, or 'sd'\n",
    "ax = database.sub(a='a1').lineplot(\n",
    "    xitem='time',\n",
    "    yitem='value',\n",
    "    label='a1',\n",
    "    linewidth=4,\n",
    "    ci=95,\n",
    ")\n",
    "ax = database.sub(a='a2').lineplot(\n",
    "    xitem='time',\n",
    "    yitem='value',\n",
    "    label='a2',\n",
    "    linewidth=4,\n",
    "    ci=95,\n",
    "    ax=ax\n",
    ")\n",
    "ax.grid('--')\n",
    "ax.legend()"
   ]
  },
  {
   "cell_type": "markdown",
   "metadata": {},
   "source": [
    "### maxplot"
   ]
  },
  {
   "cell_type": "code",
   "execution_count": 33,
   "metadata": {},
   "outputs": [
    {
     "data": {
      "text/plain": [
       "<matplotlib.legend.Legend at 0x131057550>"
      ]
     },
     "execution_count": 33,
     "metadata": {},
     "output_type": "execute_result"
    },
    {
     "data": {
      "image/png": "[encoded data removed]",
      "text/plain": [
       "<Figure size 432x288 with 1 Axes>"
      ]
     },
     "metadata": {
      "needs_background": "light"
     },
     "output_type": "display_data"
    }
   ],
   "source": [
    "# plot the max of two datasets\n",
    "ax = sub_database.lineplot(\n",
    "    xitem='time',\n",
    "    yitem='value',\n",
    "    label='max',\n",
    "    reduce_func=max,\n",
    "    linewidth=4,\n",
    ")\n",
    "sub_database.sub(b='b1').lineplot(\n",
    "    xitem='time',\n",
    "    yitem='value',\n",
    "    label='b1',\n",
    "    ax=ax,\n",
    ")\n",
    "sub_database.sub(b='b2').lineplot(\n",
    "    xitem='time',\n",
    "    yitem='value',\n",
    "    label='b2',\n",
    "    ax=ax,\n",
    ")\n",
    "ax.grid('--')\n",
    "ax.legend()"
   ]
  },
  {
   "cell_type": "markdown",
   "metadata": {},
   "source": [
    "### minplot"
   ]
  },
  {
   "cell_type": "code",
   "execution_count": 34,
   "metadata": {},
   "outputs": [
    {
     "data": {
      "text/plain": [
       "<matplotlib.legend.Legend at 0x1310bdc10>"
      ]
     },
     "execution_count": 34,
     "metadata": {},
     "output_type": "execute_result"
    },
    {
     "data": {
      "image/png": "[encoded data removed]",
      "text/plain": [
       "<Figure size 432x288 with 1 Axes>"
      ]
     },
     "metadata": {
      "needs_background": "light"
     },
     "output_type": "display_data"
    }
   ],
   "source": [
    "# plot the min of two datasets\n",
    "ax = sub_database.lineplot(\n",
    "    xitem='time',\n",
    "    yitem='value',\n",
    "    label='min',\n",
    "    reduce_func=min,\n",
    "    linewidth=4,\n",
    ")\n",
    "sub_database.sub(b='b1').lineplot(\n",
    "    xitem='time',\n",
    "    yitem='value',\n",
    "    label='b1',\n",
    "    ax=ax,\n",
    ")\n",
    "sub_database.sub(b='b2').lineplot(\n",
    "    xitem='time',\n",
    "    yitem='value',\n",
    "    label='b2',\n",
    "    ax=ax,\n",
    ")\n",
    "ax.grid('--')\n",
    "ax.legend()"
   ]
  },
  {
   "cell_type": "markdown",
   "metadata": {},
   "source": [
    "## Scatter Plot"
   ]
  },
  {
   "cell_type": "code",
   "execution_count": 35,
   "metadata": {},
   "outputs": [
    {
     "name": "stdout",
     "output_type": "stream",
     "text": [
      "    a   b  size                       seq_data global_data\n",
      "0  a1  b2     3  ../storage_example1/a1_b2.txt        None\n",
      "1  a1  b1     4  ../storage_example1/a1_b1.txt        None\n"
     ]
    }
   ],
   "source": [
    "sub_database = database.sub(a='a1')\n",
    "print(sub_database)"
   ]
  },
  {
   "cell_type": "code",
   "execution_count": 36,
   "metadata": {
    "scrolled": true
   },
   "outputs": [
    {
     "data": {
      "image/png": "[encoded data removed]",
      "text/plain": [
       "<Figure size 432x288 with 1 Axes>"
      ]
     },
     "metadata": {
      "needs_background": "light"
     },
     "output_type": "display_data"
    }
   ],
   "source": [
    "ax = sub_database.sub(b='b1').scatterplot(\n",
    "    xitem='time',\n",
    "    yitem='value',\n",
    "    label='a1-b1',\n",
    ")\n",
    "sub_database.sub(b='b2').scatterplot(\n",
    "    xitem='time',\n",
    "    yitem='value',\n",
    "    label='a1-b2',\n",
    "    ax=ax,\n",
    ")\n",
    "ax.legend()\n",
    "ax.grid('--')"
   ]
  },
  {
   "cell_type": "markdown",
   "metadata": {},
   "source": [
    "## Hist Plot"
   ]
  },
  {
   "cell_type": "code",
   "execution_count": 37,
   "metadata": {},
   "outputs": [
    {
     "data": {
      "text/plain": [
       "<matplotlib.axes._subplots.AxesSubplot at 0x1311988b0>"
      ]
     },
     "execution_count": 37,
     "metadata": {},
     "output_type": "execute_result"
    },
    {
     "data": {
      "image/png": "[encoded data removed]",
      "text/plain": [
       "<Figure size 432x288 with 1 Axes>"
      ]
     },
     "metadata": {
      "needs_background": "light"
     },
     "output_type": "display_data"
    }
   ],
   "source": [
    "sub_database.histplot(\n",
    "    item='value'\n",
    ")"
   ]
  },
  {
   "cell_type": "markdown",
   "metadata": {},
   "source": [
    "## Statistical Plots via seaborn"
   ]
  },
  {
   "cell_type": "code",
   "execution_count": 38,
   "metadata": {},
   "outputs": [],
   "source": [
    "import seaborn"
   ]
  },
  {
   "cell_type": "code",
   "execution_count": 39,
   "metadata": {},
   "outputs": [
    {
     "data": {
      "text/html": [
       "<div>\n",
       "<style scoped>\n",
       "    .dataframe tbody tr th:only-of-type {\n",
       "        vertical-align: middle;\n",
       "    }\n",
       "\n",
       "    .dataframe tbody tr th {\n",
       "        vertical-align: top;\n",
       "    }\n",
       "\n",
       "    .dataframe thead th {\n",
       "        text-align: right;\n",
       "    }\n",
       "</style>\n",
       "<table border=\"1\" class=\"dataframe\">\n",
       "  <thead>\n",
       "    <tr style=\"text-align: right;\">\n",
       "      <th></th>\n",
       "      <th>time</th>\n",
       "      <th>value</th>\n",
       "      <th>a</th>\n",
       "      <th>b</th>\n",
       "      <th>param</th>\n",
       "    </tr>\n",
       "  </thead>\n",
       "  <tbody>\n",
       "    <tr>\n",
       "      <th>0</th>\n",
       "      <td>3.0</td>\n",
       "      <td>0.0</td>\n",
       "      <td>a1</td>\n",
       "      <td>b2</td>\n",
       "      <td>a1_b2</td>\n",
       "    </tr>\n",
       "    <tr>\n",
       "      <th>1</th>\n",
       "      <td>4.0</td>\n",
       "      <td>1.0</td>\n",
       "      <td>a1</td>\n",
       "      <td>b2</td>\n",
       "      <td>a1_b2</td>\n",
       "    </tr>\n",
       "    <tr>\n",
       "      <th>2</th>\n",
       "      <td>10.0</td>\n",
       "      <td>2.0</td>\n",
       "      <td>a1</td>\n",
       "      <td>b2</td>\n",
       "      <td>a1_b2</td>\n",
       "    </tr>\n",
       "    <tr>\n",
       "      <th>0</th>\n",
       "      <td>0.0</td>\n",
       "      <td>10.0</td>\n",
       "      <td>a2</td>\n",
       "      <td>b2</td>\n",
       "      <td>a2_b2</td>\n",
       "    </tr>\n",
       "    <tr>\n",
       "      <th>1</th>\n",
       "      <td>2.0</td>\n",
       "      <td>15.0</td>\n",
       "      <td>a2</td>\n",
       "      <td>b2</td>\n",
       "      <td>a2_b2</td>\n",
       "    </tr>\n",
       "    <tr>\n",
       "      <th>2</th>\n",
       "      <td>10.0</td>\n",
       "      <td>20.0</td>\n",
       "      <td>a2</td>\n",
       "      <td>b2</td>\n",
       "      <td>a2_b2</td>\n",
       "    </tr>\n",
       "    <tr>\n",
       "      <th>0</th>\n",
       "      <td>3.0</td>\n",
       "      <td>2.0</td>\n",
       "      <td>a2</td>\n",
       "      <td>b1</td>\n",
       "      <td>a2_b1</td>\n",
       "    </tr>\n",
       "    <tr>\n",
       "      <th>1</th>\n",
       "      <td>10.0</td>\n",
       "      <td>10.0</td>\n",
       "      <td>a2</td>\n",
       "      <td>b1</td>\n",
       "      <td>a2_b1</td>\n",
       "    </tr>\n",
       "    <tr>\n",
       "      <th>0</th>\n",
       "      <td>1.0</td>\n",
       "      <td>2.0</td>\n",
       "      <td>a1</td>\n",
       "      <td>b1</td>\n",
       "      <td>a1_b1</td>\n",
       "    </tr>\n",
       "    <tr>\n",
       "      <th>1</th>\n",
       "      <td>3.0</td>\n",
       "      <td>9.0</td>\n",
       "      <td>a1</td>\n",
       "      <td>b1</td>\n",
       "      <td>a1_b1</td>\n",
       "    </tr>\n",
       "    <tr>\n",
       "      <th>2</th>\n",
       "      <td>10.0</td>\n",
       "      <td>10.0</td>\n",
       "      <td>a1</td>\n",
       "      <td>b1</td>\n",
       "      <td>a1_b1</td>\n",
       "    </tr>\n",
       "    <tr>\n",
       "      <th>3</th>\n",
       "      <td>12.0</td>\n",
       "      <td>15.0</td>\n",
       "      <td>a1</td>\n",
       "      <td>b1</td>\n",
       "      <td>a1_b1</td>\n",
       "    </tr>\n",
       "  </tbody>\n",
       "</table>\n",
       "</div>"
      ],
      "text/plain": [
       "   time  value   a   b  param\n",
       "0   3.0    0.0  a1  b2  a1_b2\n",
       "1   4.0    1.0  a1  b2  a1_b2\n",
       "2  10.0    2.0  a1  b2  a1_b2\n",
       "0   0.0   10.0  a2  b2  a2_b2\n",
       "1   2.0   15.0  a2  b2  a2_b2\n",
       "2  10.0   20.0  a2  b2  a2_b2\n",
       "0   3.0    2.0  a2  b1  a2_b1\n",
       "1  10.0   10.0  a2  b1  a2_b1\n",
       "0   1.0    2.0  a1  b1  a1_b1\n",
       "1   3.0    9.0  a1  b1  a1_b1\n",
       "2  10.0   10.0  a1  b1  a1_b1\n",
       "3  12.0   15.0  a1  b1  a1_b1"
      ]
     },
     "execution_count": 39,
     "metadata": {},
     "output_type": "execute_result"
    }
   ],
   "source": [
    "database.toDataFrame()"
   ]
  },
  {
   "cell_type": "markdown",
   "metadata": {},
   "source": [
    "### heatmap of the correlation coefficients"
   ]
  },
  {
   "cell_type": "code",
   "execution_count": 40,
   "metadata": {},
   "outputs": [
    {
     "data": {
      "text/html": [
       "<div>\n",
       "<style scoped>\n",
       "    .dataframe tbody tr th:only-of-type {\n",
       "        vertical-align: middle;\n",
       "    }\n",
       "\n",
       "    .dataframe tbody tr th {\n",
       "        vertical-align: top;\n",
       "    }\n",
       "\n",
       "    .dataframe thead th {\n",
       "        text-align: right;\n",
       "    }\n",
       "</style>\n",
       "<table border=\"1\" class=\"dataframe\">\n",
       "  <thead>\n",
       "    <tr style=\"text-align: right;\">\n",
       "      <th></th>\n",
       "      <th>time</th>\n",
       "      <th>value</th>\n",
       "    </tr>\n",
       "  </thead>\n",
       "  <tbody>\n",
       "    <tr>\n",
       "      <th>time</th>\n",
       "      <td>1.000000</td>\n",
       "      <td>0.398539</td>\n",
       "    </tr>\n",
       "    <tr>\n",
       "      <th>value</th>\n",
       "      <td>0.398539</td>\n",
       "      <td>1.000000</td>\n",
       "    </tr>\n",
       "  </tbody>\n",
       "</table>\n",
       "</div>"
      ],
      "text/plain": [
       "           time     value\n",
       "time   1.000000  0.398539\n",
       "value  0.398539  1.000000"
      ]
     },
     "execution_count": 40,
     "metadata": {},
     "output_type": "execute_result"
    }
   ],
   "source": [
    "database.toDataFrame().corr()"
   ]
  },
  {
   "cell_type": "code",
   "execution_count": 41,
   "metadata": {},
   "outputs": [
    {
     "data": {
      "text/plain": [
       "<matplotlib.axes._subplots.AxesSubplot at 0x1311cfee0>"
      ]
     },
     "execution_count": 41,
     "metadata": {},
     "output_type": "execute_result"
    },
    {
     "data": {
      "image/png": "[encoded data removed]",
      "text/plain": [
       "<Figure size 432x288 with 2 Axes>"
      ]
     },
     "metadata": {
      "needs_background": "light"
     },
     "output_type": "display_data"
    }
   ],
   "source": [
    "seaborn.heatmap(database.toDataFrame().corr())"
   ]
  },
  {
   "cell_type": "markdown",
   "metadata": {},
   "source": [
    "### pairplot"
   ]
  },
  {
   "cell_type": "code",
   "execution_count": 42,
   "metadata": {},
   "outputs": [
    {
     "data": {
      "text/plain": [
       "<seaborn.axisgrid.PairGrid at 0x131271dc0>"
      ]
     },
     "execution_count": 42,
     "metadata": {},
     "output_type": "execute_result"
    },
    {
     "data": {
      "image/png": "[encoded data removed]",
      "text/plain": [
       "<Figure size 360x360 with 6 Axes>"
      ]
     },
     "metadata": {
      "needs_background": "light"
     },
     "output_type": "display_data"
    }
   ],
   "source": [
    "seaborn.pairplot(database.toDataFrame())"
   ]
  },
  {
   "cell_type": "code",
   "execution_count": 43,
   "metadata": {},
   "outputs": [
    {
     "data": {
      "text/plain": [
       "<seaborn.axisgrid.PairGrid at 0x13119d400>"
      ]
     },
     "execution_count": 43,
     "metadata": {},
     "output_type": "execute_result"
    },
    {
     "data": {
      "image/png": "[encoded data removed]",
      "text/plain": [
       "<Figure size 426.125x360 with 6 Axes>"
      ]
     },
     "metadata": {
      "needs_background": "light"
     },
     "output_type": "display_data"
    }
   ],
   "source": [
    "seaborn.pairplot(database.toDataFrame(), hue='param')"
   ]
  },
  {
   "cell_type": "code",
   "execution_count": 44,
   "metadata": {
    "scrolled": true
   },
   "outputs": [
    {
     "data": {
      "text/plain": [
       "<seaborn.axisgrid.PairGrid at 0x131364dc0>"
      ]
     },
     "execution_count": 44,
     "metadata": {},
     "output_type": "execute_result"
    },
    {
     "data": {
      "image/png": "[encoded data removed]",
      "text/plain": [
       "<Figure size 408.5x360 with 6 Axes>"
      ]
     },
     "metadata": {
      "needs_background": "light"
     },
     "output_type": "display_data"
    }
   ],
   "source": [
    "seaborn.pairplot(database.toDataFrame(), hue='a')"
   ]
  },
  {
   "cell_type": "markdown",
   "metadata": {},
   "source": [
    "### kdeplot"
   ]
  },
  {
   "cell_type": "code",
   "execution_count": 45,
   "metadata": {},
   "outputs": [
    {
     "data": {
      "text/plain": [
       "<matplotlib.axes._subplots.AxesSubplot at 0x1314a1130>"
      ]
     },
     "execution_count": 45,
     "metadata": {},
     "output_type": "execute_result"
    },
    {
     "data": {
      "image/png": "[encoded data removed]",
      "text/plain": [
       "<Figure size 432x288 with 1 Axes>"
      ]
     },
     "metadata": {
      "needs_background": "light"
     },
     "output_type": "display_data"
    }
   ],
   "source": [
    "df = database.toDataFrame()\n",
    "seaborn.kdeplot(x=df.time, y=df.value, shade=True)"
   ]
  },
  {
   "cell_type": "code",
   "execution_count": null,
   "metadata": {},
   "outputs": [],
   "source": []
  }
 ],
 "metadata": {
  "kernelspec": {
   "display_name": "Python 3 (ipykernel)",
   "language": "python",
   "name": "python3"
  },
  "language_info": {
   "codemirror_mode": {
    "name": "ipython",
    "version": 3
   },
   "file_extension": ".py",
   "mimetype": "text/x-python",
   "name": "python",
   "nbconvert_exporter": "python",
   "pygments_lexer": "ipython3",
   "version": "3.8.12"
  },
  "toc": {
   "base_numbering": 1,
   "nav_menu": {},
   "number_sections": true,
   "sideBar": true,
   "skip_h1_title": false,
   "title_cell": "Table of Contents",
   "title_sidebar": "Contents",
   "toc_cell": false,
   "toc_position": {
    "height": "529.3333129882812px",
    "left": "58px",
    "top": "112.33331298828125px",
    "width": "245.3333282470703px"
   },
   "toc_section_display": true,
   "toc_window_display": true
  }
 },
 "nbformat": 4,
 "nbformat_minor": 4
}
