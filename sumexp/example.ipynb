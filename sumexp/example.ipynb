{
 "cells": [
  {
   "cell_type": "code",
   "execution_count": 1,
   "metadata": {},
   "outputs": [],
   "source": [
    "from base import *"
   ]
  },
  {
   "cell_type": "markdown",
   "metadata": {},
   "source": [
    "## load database"
   ]
  },
  {
   "cell_type": "code",
   "execution_count": 2,
   "metadata": {},
   "outputs": [
    {
     "name": "stdout",
     "output_type": "stream",
     "text": [
      "======== datsets : size 4 ====================\n",
      "\n",
      "dataset 0\n",
      "   log_path ../storage_example/a1_b1.txt\n",
      "\tsize     4\n",
      "\t\n",
      "\n",
      "dataset 1\n",
      "   log_path ../storage_example/a1_b2.txt\n",
      "\tsize     3\n",
      "\t\n",
      "\n",
      "dataset 2\n",
      "   log_path ../storage_example/a2_b1.txt\n",
      "\tsize     2\n",
      "\t\n",
      "\n",
      "dataset 3\n",
      "   log_path ../storage_example/a2_b2.txt\n",
      "\tsize     3\n",
      "\t\n",
      "==============================================\n"
     ]
    }
   ],
   "source": [
    "data_path = '../storage_example/database.pickle'\n",
    "database = Database()\n",
    "database.load(data_path)\n",
    "\n",
    "print(database)"
   ]
  },
  {
   "cell_type": "markdown",
   "metadata": {},
   "source": [
    "## extruct database and plot"
   ]
  },
  {
   "cell_type": "code",
   "execution_count": 3,
   "metadata": {},
   "outputs": [
    {
     "name": "stdout",
     "output_type": "stream",
     "text": [
      "======== datsets : size 1 ====================\n",
      "\n",
      "dataset 0\n",
      "   log_path ../storage_example/a1_b1.txt\n",
      "\tsize     4\n",
      "\t\n",
      "==============================================\n"
     ]
    }
   ],
   "source": [
    "sub_database = database.sub(a='a1', b='b1')\n",
    "print(sub_database)"
   ]
  },
  {
   "cell_type": "code",
   "execution_count": 4,
   "metadata": {
    "scrolled": true
   },
   "outputs": [
    {
     "data": {
      "text/plain": [
       "(<Figure size 432x288 with 1 Axes>, <AxesSubplot:>)"
      ]
     },
     "execution_count": 4,
     "metadata": {},
     "output_type": "execute_result"
    },
    {
     "data": {
      "image/png": "[encoded data removed]",
      "text/plain": [
       "<Figure size 432x288 with 1 Axes>"
      ]
     },
     "metadata": {
      "needs_background": "light"
     },
     "output_type": "display_data"
    }
   ],
   "source": [
    "sub_database.lineplot(\n",
    "    xitem='time',\n",
    "    yitem='value'\n",
    ")"
   ]
  },
  {
   "cell_type": "code",
   "execution_count": 5,
   "metadata": {},
   "outputs": [
    {
     "name": "stdout",
     "output_type": "stream",
     "text": [
      "======== datsets : size 2 ====================\n",
      "\n",
      "dataset 0\n",
      "   log_path ../storage_example/a1_b1.txt\n",
      "\tsize     4\n",
      "\t\n",
      "\n",
      "dataset 1\n",
      "   log_path ../storage_example/a1_b2.txt\n",
      "\tsize     3\n",
      "\t\n",
      "==============================================\n"
     ]
    }
   ],
   "source": [
    "sub_database = database.sub(a='a1')\n",
    "print(sub_database)"
   ]
  },
  {
   "cell_type": "code",
   "execution_count": 6,
   "metadata": {},
   "outputs": [
    {
     "data": {
      "text/plain": [
       "(<Figure size 432x288 with 1 Axes>, <AxesSubplot:>)"
      ]
     },
     "execution_count": 6,
     "metadata": {},
     "output_type": "execute_result"
    },
    {
     "data": {
      "image/png": "[encoded data removed]",
      "text/plain": [
       "<Figure size 432x288 with 1 Axes>"
      ]
     },
     "metadata": {
      "needs_background": "light"
     },
     "output_type": "display_data"
    }
   ],
   "source": [
    "sub_database.lineplot(\n",
    "    xitem='time',\n",
    "    yitem='value'\n",
    ")"
   ]
  },
  {
   "cell_type": "code",
   "execution_count": 7,
   "metadata": {},
   "outputs": [
    {
     "data": {
      "text/plain": [
       "{('a1', 'b1'): Dataset(../storage_example/a1_b1.txt),\n",
       " ('a1', 'b2'): Dataset(../storage_example/a1_b2.txt)}"
      ]
     },
     "execution_count": 7,
     "metadata": {},
     "output_type": "execute_result"
    }
   ],
   "source": [
    "sub_database.datas"
   ]
  },
  {
   "cell_type": "code",
   "execution_count": 8,
   "metadata": {},
   "outputs": [
    {
     "data": {
      "text/plain": [
       "Dataset(../storage_example/a1_b1.txt)"
      ]
     },
     "execution_count": 8,
     "metadata": {},
     "output_type": "execute_result"
    }
   ],
   "source": [
    "sub_database.datas[('a1', 'b1')]"
   ]
  },
  {
   "cell_type": "code",
   "execution_count": 9,
   "metadata": {},
   "outputs": [
    {
     "data": {
      "text/plain": [
       "[Data({'time': 1.0, 'value': 2.0}),\n",
       " Data({'time': 3.0, 'value': 9.0}),\n",
       " Data({'time': 10.0, 'value': 10.0}),\n",
       " Data({'time': 12.0, 'value': 15.0})]"
      ]
     },
     "execution_count": 9,
     "metadata": {},
     "output_type": "execute_result"
    }
   ],
   "source": [
    "sub_database.datas[('a1', 'b1')].datas"
   ]
  },
  {
   "cell_type": "code",
   "execution_count": null,
   "metadata": {},
   "outputs": [],
   "source": []
  }
 ],
 "metadata": {
  "kernelspec": {
   "display_name": "Python 3",
   "language": "python",
   "name": "python3"
  },
  "language_info": {
   "codemirror_mode": {
    "name": "ipython",
    "version": 3
   },
   "file_extension": ".py",
   "mimetype": "text/x-python",
   "name": "python",
   "nbconvert_exporter": "python",
   "pygments_lexer": "ipython3",
   "version": "3.8.6"
  },
  "toc": {
   "base_numbering": 1,
   "nav_menu": {},
   "number_sections": true,
   "sideBar": true,
   "skip_h1_title": false,
   "title_cell": "Table of Contents",
   "title_sidebar": "Contents",
   "toc_cell": false,
   "toc_position": {},
   "toc_section_display": true,
   "toc_window_display": false
  }
 },
 "nbformat": 4,
 "nbformat_minor": 4
}
